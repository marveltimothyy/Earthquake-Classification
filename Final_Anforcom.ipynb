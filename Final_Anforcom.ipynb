{
  "nbformat": 4,
  "nbformat_minor": 0,
  "metadata": {
    "colab": {
      "name": "Final Anforcom.ipynb",
      "provenance": [],
      "authorship_tag": "ABX9TyNnWEgASqe4LmHGti1PKmue",
      "include_colab_link": true
    },
    "kernelspec": {
      "name": "python3",
      "display_name": "Python 3"
    },
    "language_info": {
      "name": "python"
    },
    "accelerator": "GPU"
  },
  "cells": [
    {
      "cell_type": "markdown",
      "metadata": {
        "id": "view-in-github",
        "colab_type": "text"
      },
      "source": [
        "<a href=\"https://colab.research.google.com/github/marveltimothyy/EarthquakeClassification/blob/main/Final_Anforcom.ipynb\" target=\"_parent\"><img src=\"https://colab.research.google.com/assets/colab-badge.svg\" alt=\"Open In Colab\"/></a>"
      ]
    },
    {
      "cell_type": "markdown",
      "source": [
        "## Importing Library"
      ],
      "metadata": {
        "id": "49mXS3VFZvL3"
      }
    },
    {
      "cell_type": "code",
      "execution_count": null,
      "metadata": {
        "colab": {
          "base_uri": "https://localhost:8080/"
        },
        "id": "2gF9KROgW7V_",
        "outputId": "b8340fe7-be5d-4c6b-f4fb-1918d08903d2"
      },
      "outputs": [
        {
          "output_type": "stream",
          "name": "stdout",
          "text": [
            "Mounted at /content/drive\n"
          ]
        }
      ],
      "source": [
        "import os\n",
        "from google.colab import drive\n",
        "from sklearn.ensemble import RandomForestClassifier\n",
        "from sklearn.model_selection import train_test_split\n",
        "from sklearn.metrics import classification_report, f1_score\n",
        "import pandas as pd\n",
        "from sklearn.preprocessing import StandardScaler \n",
        "from sklearn.preprocessing import MaxAbsScaler \n",
        "from imblearn.over_sampling import SMOTE\n",
        "from matplotlib import pyplot\n",
        "from collections import Counter\n",
        "from numpy import where\n",
        "from sklearn.datasets import make_classification\n",
        "import seaborn as sns\n",
        "\n",
        "\n",
        "drive.mount('/content/drive', force_remount=True)"
      ]
    },
    {
      "cell_type": "markdown",
      "source": [
        "##Load Data CSV into dataframe"
      ],
      "metadata": {
        "id": "ZTEOpTLgZysc"
      }
    },
    {
      "cell_type": "code",
      "source": [
        "folder_path = \"/content/drive/MyDrive/Project/Data\"\n",
        "train = os.path.join(folder_path, \"train.csv\")\n",
        "test = os.path.join(folder_path, \"test.csv\")"
      ],
      "metadata": {
        "id": "oflr1wvjXxWU"
      },
      "execution_count": null,
      "outputs": []
    },
    {
      "cell_type": "code",
      "source": [
        "train = pd.read_csv(train)\n",
        "test = pd.read_csv(test)"
      ],
      "metadata": {
        "id": "JhVKKaavYWNa"
      },
      "execution_count": null,
      "outputs": []
    },
    {
      "cell_type": "code",
      "source": [
        "print(train)"
      ],
      "metadata": {
        "colab": {
          "base_uri": "https://localhost:8080/"
        },
        "id": "AJP3cS_PYgyA",
        "outputId": "face1eda-f187-4b35-e1e1-acf253a00b47"
      },
      "execution_count": null,
      "outputs": [
        {
          "output_type": "stream",
          "name": "stdout",
          "text": [
            "          id             phase           E-1           E-2           E-3  \\\n",
            "0          0    After Coda End    -40.060604   -260.707855  -2295.125732   \n",
            "1          1    After Coda End   -918.338989   -130.808212   -180.710327   \n",
            "2          2            S Wave -19588.193359 -22775.435547 -14151.219727   \n",
            "3          3  Before P Arrival     71.364502    102.589439    140.858856   \n",
            "4          4    After Coda End  11264.663086  16095.182617  16701.796875   \n",
            "...      ...               ...           ...           ...           ...   \n",
            "35881  35881    After Coda End   7880.614746   8688.561523   8825.509766   \n",
            "35882  35882    After Coda End  -1862.605469  -1015.105225  -1491.742554   \n",
            "35883  35883    After Coda End  -4897.524414  -4547.483887  -3450.159668   \n",
            "35884  35884            P Wave -21840.333984 -21545.867188   1763.364014   \n",
            "35885  35885    After Coda End   -309.833557   -272.838654   -296.737488   \n",
            "\n",
            "                E-4            E-5           E-6           E-7           E-8  \\\n",
            "0      -5077.934570   -6510.237793  -6507.307617  -6570.841309  -6639.744141   \n",
            "1       -888.181763   -1270.482300  -1396.425903  -1328.800293  -1324.853394   \n",
            "2      -1106.306152     479.042145   8777.960938  27075.169922  24998.861328   \n",
            "3        113.558861      72.772079     97.952866    132.099426     98.619576   \n",
            "4      15911.804688   13841.098633  11352.826172   9862.090820   9329.799805   \n",
            "...             ...            ...           ...           ...           ...   \n",
            "35881   8084.964844    6757.714355   5400.477051   4112.736816   2953.214600   \n",
            "35882    112.670189     458.357025   -548.750671   5934.537109    447.223450   \n",
            "35883  -2070.732422    -739.391541   1491.856323   4499.432617   6384.674316   \n",
            "35884  63479.605469  107657.640625  97654.109375  24631.556641 -40136.253906   \n",
            "35885   -178.110062     -19.003536     14.257061    -35.506229    -49.574570   \n",
            "\n",
            "       ...           Z-13           Z-14           Z-15           Z-16  \\\n",
            "0      ...   -1636.636719    -481.137634    1250.591431    3423.129150   \n",
            "1      ...    -606.994751    -341.463318    -216.040726    -132.499832   \n",
            "2      ...   -6982.862305   -3364.717285    6015.947266  -10893.664062   \n",
            "3      ...     -33.640625     -28.372875     -31.518494     -40.343090   \n",
            "4      ...  122089.867188  141905.125000  157348.359375  169389.234375   \n",
            "...    ...            ...            ...            ...            ...   \n",
            "35881  ...    5244.672852    5314.038086    5058.224609    4660.564941   \n",
            "35882  ...   -1411.695557    -392.345581   -1772.229004    1347.075806   \n",
            "35883  ...   -1704.147461    -338.344818    1034.946045    2605.394775   \n",
            "35884  ...  -30890.181641 -184053.984375 -106792.765625   92609.710938   \n",
            "35885  ...   -1165.752563   -1130.574097   -1080.542358    -949.505737   \n",
            "\n",
            "                Z-17           Z-18           Z-19           Z-20  station  \\\n",
            "0        5408.335938    7083.473633    8639.500977    9888.334961      AOS   \n",
            "1         415.490448     750.097290    1068.296143    1360.592407      AOS   \n",
            "2       -9635.690430    2515.936035    5403.634766    7697.293945     AC04   \n",
            "3         -43.658840     -37.447033     -41.053375     -54.754852      AOS   \n",
            "4      178161.437500  185418.484375  191004.015625  193284.250000      AMT   \n",
            "...              ...            ...            ...            ...      ...   \n",
            "35881    4446.166016    4281.390625    3773.695312    2911.149658      AOS   \n",
            "35882   -1261.064331   -1045.916626    1086.603638   -1823.545044      AMT   \n",
            "35883    4317.965820    5215.839355    5016.916016    3708.820557      AOS   \n",
            "35884   65886.500000  165103.140625  146718.015625  -80342.414062     AC04   \n",
            "35885    -815.123901    -622.200317    -503.484772    -418.234344      AOS   \n",
            "\n",
            "       network  \n",
            "0           HT  \n",
            "1           HT  \n",
            "2           C1  \n",
            "3           HT  \n",
            "4           HP  \n",
            "...        ...  \n",
            "35881       HT  \n",
            "35882       HP  \n",
            "35883       HT  \n",
            "35884       C1  \n",
            "35885       HT  \n",
            "\n",
            "[35886 rows x 64 columns]\n"
          ]
        }
      ]
    },
    {
      "cell_type": "code",
      "source": [
        "print(test)"
      ],
      "metadata": {
        "colab": {
          "base_uri": "https://localhost:8080/"
        },
        "id": "9UfyBBLr2dZB",
        "outputId": "3ebf5bef-7a11-467c-851a-a4e350a2b8d1"
      },
      "execution_count": null,
      "outputs": [
        {
          "output_type": "stream",
          "name": "stdout",
          "text": [
            "          id            E-1            E-2            E-3            E-4  \\\n",
            "0          0  -11116.595703   -8814.645508   -7125.043945   -4669.099121   \n",
            "1          1 -746528.250000 -704013.250000 -708065.187500 -696620.187500   \n",
            "2          2  125347.781250  172969.890625  115584.632812   24902.072266   \n",
            "3          3   -5120.035645  -33624.339844  -61508.496094  -78813.054688   \n",
            "4          4      65.429306     129.041046     201.003647     112.545326   \n",
            "...      ...            ...            ...            ...            ...   \n",
            "23919  23919  -85798.812500  -53014.789062  -21953.332031  -14419.050781   \n",
            "23920  23920  -35245.722656  -28838.714844  -19836.542969   -8867.316406   \n",
            "23921  23921   -1839.797241  220944.937500  383683.906250  289150.937500   \n",
            "23922  23922 -105934.507812 -123430.609375 -125815.898438 -107843.257812   \n",
            "23923  23923    9267.936523   17492.054688   16139.473633    -277.510712   \n",
            "\n",
            "                 E-5            E-6            E-7           E-8  \\\n",
            "0       -2669.482910    -883.854309    1029.895142  2.199912e+03   \n",
            "1     -727679.750000 -798772.375000 -892448.062500 -1.018534e+06   \n",
            "2      -23736.800781  -52479.531250  -73032.226562 -4.958116e+04   \n",
            "3      -83175.109375  -73004.687500  -50245.203125 -2.971924e+04   \n",
            "4          42.676476     111.368340     156.915634  1.108549e+02   \n",
            "...              ...            ...            ...           ...   \n",
            "23919  -19596.812500  -23596.662109  -26786.494141 -2.679754e+04   \n",
            "23920    3332.211426   16344.798828   29596.048828  4.284654e+04   \n",
            "23921  122566.296875   10212.780273  -92206.039062 -8.376911e+04   \n",
            "23922   -3113.285645  141889.187500  242069.656250  2.238196e+05   \n",
            "23923  -18247.390625  -51794.929688  -82508.992188 -9.411276e+04   \n",
            "\n",
            "                E-9  ...           Z-13           Z-14           Z-15  \\\n",
            "0      3.456047e+03  ...   -3115.660400   -4360.987793   -5814.041992   \n",
            "1     -1.089651e+06  ...  213539.656250  145160.453125   41537.710938   \n",
            "2      1.251584e+03  ...     461.817230   28385.943359    9805.948242   \n",
            "3     -2.203080e+04  ...   29503.064453   23884.455078   20079.451172   \n",
            "4      9.276582e+01  ...    -105.160553     -86.163849     -78.909676   \n",
            "...             ...  ...            ...            ...            ...   \n",
            "23919 -1.744702e+04  ...  -11839.889648   -8406.006836   -9251.095703   \n",
            "23920  5.555877e+04  ...  -30825.605469  -40407.066406  -47692.855469   \n",
            "23921  2.473386e+04  ...  -18988.984375  -14040.021484  -15143.049805   \n",
            "23922  7.955327e+04  ...   15347.688477  -61574.546875 -133447.234375   \n",
            "23923 -1.132401e+05  ...  -66033.812500  -83625.539062  -79939.546875   \n",
            "\n",
            "                Z-16           Z-17           Z-18           Z-19  \\\n",
            "0       -7040.413574   -8513.589844   -9523.784180  -10495.228516   \n",
            "1     -126674.835938 -424032.625000 -749909.562500 -936043.062500   \n",
            "2       -8384.132812  -25904.166016  -60659.148438  -52983.011719   \n",
            "3       17342.150391   11667.902344    2401.277588   -4093.362305   \n",
            "4         -89.840736     -77.817879     -49.916676     -44.896088   \n",
            "...              ...            ...            ...            ...   \n",
            "23919  -25459.474609  -47391.671875  -59798.535156  -70041.414062   \n",
            "23920  -51150.152344  -50381.109375  -45849.644531  -38302.976562   \n",
            "23921   43868.386719   70166.921875   40367.632812    9001.747070   \n",
            "23922  -76767.273438    -398.746063   48200.058594   20350.291016   \n",
            "23923  -49537.691406  -22232.058594    -947.082031   35473.187500   \n",
            "\n",
            "                Z-20  station  network  \n",
            "0      -11500.585938      AMT       HP  \n",
            "1     -989998.750000      AMT       HP  \n",
            "2      -22080.736328     AC04       C1  \n",
            "3       -7678.550293      AOS       HT  \n",
            "4         -66.344528      AOS       HT  \n",
            "...              ...      ...      ...  \n",
            "23919  -84589.539062      AOS       HT  \n",
            "23920  -28801.833984      AMT       HP  \n",
            "23921  -43451.179688     AC04       C1  \n",
            "23922  -39401.171875     AC04       C1  \n",
            "23923   57001.000000      AOS       HT  \n",
            "\n",
            "[23924 rows x 63 columns]\n"
          ]
        }
      ]
    },
    {
      "cell_type": "markdown",
      "source": [
        ""
      ],
      "metadata": {
        "id": "q_YzwKCiTZfV"
      }
    },
    {
      "cell_type": "markdown",
      "source": [
        "## Data Prep\n"
      ],
      "metadata": {
        "id": "giCA8DlMnM8j"
      }
    },
    {
      "cell_type": "markdown",
      "source": [
        "### Changing Class value\n",
        "From the displayed data we know that data class have categorical value. Class type need to change into numerical value based on sample_submission in https://www.kaggle.com/competitions/finaldatamininganforcom20/data "
      ],
      "metadata": {
        "id": "OgvPK2RADT8X"
      }
    },
    {
      "cell_type": "code",
      "source": [
        "train['phase'] = train['phase'].replace(['Before P Arrival','P Arrival','P Wave','S Arrival','S Wave','Coda End','After Coda End'],[0,1,2,3,4,5,6])"
      ],
      "metadata": {
        "id": "BlxNcOgkDWPN"
      },
      "execution_count": null,
      "outputs": []
    },
    {
      "cell_type": "markdown",
      "source": [
        "## Checking for Class distribution"
      ],
      "metadata": {
        "id": "1DPf5pNFYLHg"
      }
    },
    {
      "cell_type": "code",
      "source": [
        "sns.displot(train, x=\"phase\")"
      ],
      "metadata": {
        "colab": {
          "base_uri": "https://localhost:8080/"
        },
        "id": "eY8UzEJjWf07",
        "outputId": "b8345027-501b-4934-80b9-a94bf1c1447d"
      },
      "execution_count": null,
      "outputs": [
        {
          "output_type": "execute_result",
          "data": {
            "text/plain": [
              "<seaborn.axisgrid.FacetGrid at 0x7f994bb54fd0>"
            ]
          },
          "metadata": {},
          "execution_count": 150
        },
        {
          "output_type": "display_data",
          "data": {
            "text/plain": [
              "<Figure size 360x360 with 1 Axes>"
            ],
            "image/png": "[encoded data removed]"
          },
          "metadata": {
            "needs_background": "light"
          }
        }
      ]
    },
    {
      "cell_type": "markdown",
      "source": [
        "From the result in above diagram we can see that class 6 and 4 dominate the number of class in data. We can call this condition as imbalance data, model can easily understand the class 6 and 4 but will fail to predict for other class. To handle this problem we can do [**Synthetic Minority Oversampling TEchnique (SMOTE)**](https://machinelearningmastery.com/smote-oversampling-for-imbalanced-classification/) method, before that we need to transform categorical into numerical value in data using ONE HOT ENCODING (OHE) "
      ],
      "metadata": {
        "id": "CR7tbdfGYerk"
      }
    },
    {
      "cell_type": "markdown",
      "source": [
        "## ONE HOT ENCODING (OHE)\n",
        "This process will change categorical value into TRUE or FALSE shape data. Why we need this process?. First, SMOTE process cannot be done with categorical value in data. Second, some model cannot handle categorical data, make it into TRUE or FALSE value even better, because model will easily learn TRUE or FALSE value compared to another value type    "
      ],
      "metadata": {
        "id": "p_egKmyfmZtg"
      }
    },
    {
      "cell_type": "code",
      "source": [
        "def encode_and_bind(original_dataframe, feature_to_encode):\n",
        "    dummies = pd.get_dummies(original_dataframe[[feature_to_encode]])\n",
        "    res = pd.concat([original_dataframe, dummies], axis=1)\n",
        "    res = res.drop([feature_to_encode], axis=1)\n",
        "    return(res) \n",
        "features_to_encode = ['station','network']\n",
        "cnt = 0 \n",
        "#train\n",
        "for feature in features_to_encode:\n",
        "    if cnt > 0 :\n",
        "      res = encode_and_bind(res, feature)\n",
        "    else:\n",
        "      res = encode_and_bind(train, feature)\n",
        "    cnt += 1 \n",
        "#test\n",
        "cnt = 0 \n",
        "for feature in features_to_encode:\n",
        "    if cnt > 0 :\n",
        "      res_test = encode_and_bind(res_test, feature)\n",
        "    else:\n",
        "      res_test = encode_and_bind(test, feature)\n",
        "    cnt += 1 "
      ],
      "metadata": {
        "id": "IqFLyWQFjS0S"
      },
      "execution_count": null,
      "outputs": []
    },
    {
      "cell_type": "code",
      "source": [
        "res"
      ],
      "metadata": {
        "colab": {
          "base_uri": "https://localhost:8080/"
        },
        "id": "F-a9L1BUkJrV",
        "outputId": "3368fd4f-da75-49d8-feec-7cf9554881cb"
      },
      "execution_count": null,
      "outputs": [
        {
          "output_type": "execute_result",
          "data": {
            "text/plain": [
              "          id  phase           E-1           E-2           E-3           E-4  \\\n",
              "0          0      6    -40.060604   -260.707855  -2295.125732  -5077.934570   \n",
              "1          1      6   -918.338989   -130.808212   -180.710327   -888.181763   \n",
              "2          2      4 -19588.193359 -22775.435547 -14151.219727  -1106.306152   \n",
              "3          3      0     71.364502    102.589439    140.858856    113.558861   \n",
              "4          4      6  11264.663086  16095.182617  16701.796875  15911.804688   \n",
              "...      ...    ...           ...           ...           ...           ...   \n",
              "35881  35881      6   7880.614746   8688.561523   8825.509766   8084.964844   \n",
              "35882  35882      6  -1862.605469  -1015.105225  -1491.742554    112.670189   \n",
              "35883  35883      6  -4897.524414  -4547.483887  -3450.159668  -2070.732422   \n",
              "35884  35884      2 -21840.333984 -21545.867188   1763.364014  63479.605469   \n",
              "35885  35885      6   -309.833557   -272.838654   -296.737488   -178.110062   \n",
              "\n",
              "                 E-5           E-6           E-7           E-8  ...  \\\n",
              "0       -6510.237793  -6507.307617  -6570.841309  -6639.744141  ...   \n",
              "1       -1270.482300  -1396.425903  -1328.800293  -1324.853394  ...   \n",
              "2         479.042145   8777.960938  27075.169922  24998.861328  ...   \n",
              "3          72.772079     97.952866    132.099426     98.619576  ...   \n",
              "4       13841.098633  11352.826172   9862.090820   9329.799805  ...   \n",
              "...              ...           ...           ...           ...  ...   \n",
              "35881    6757.714355   5400.477051   4112.736816   2953.214600  ...   \n",
              "35882     458.357025   -548.750671   5934.537109    447.223450  ...   \n",
              "35883    -739.391541   1491.856323   4499.432617   6384.674316  ...   \n",
              "35884  107657.640625  97654.109375  24631.556641 -40136.253906  ...   \n",
              "35885     -19.003536     14.257061    -35.506229    -49.574570  ...   \n",
              "\n",
              "                Z-17           Z-18           Z-19           Z-20  \\\n",
              "0        5408.335938    7083.473633    8639.500977    9888.334961   \n",
              "1         415.490448     750.097290    1068.296143    1360.592407   \n",
              "2       -9635.690430    2515.936035    5403.634766    7697.293945   \n",
              "3         -43.658840     -37.447033     -41.053375     -54.754852   \n",
              "4      178161.437500  185418.484375  191004.015625  193284.250000   \n",
              "...              ...            ...            ...            ...   \n",
              "35881    4446.166016    4281.390625    3773.695312    2911.149658   \n",
              "35882   -1261.064331   -1045.916626    1086.603638   -1823.545044   \n",
              "35883    4317.965820    5215.839355    5016.916016    3708.820557   \n",
              "35884   65886.500000  165103.140625  146718.015625  -80342.414062   \n",
              "35885    -815.123901    -622.200317    -503.484772    -418.234344   \n",
              "\n",
              "       station_AC04  station_AMT  station_AOS  network_C1  network_HP  \\\n",
              "0                 0            0            1           0           0   \n",
              "1                 0            0            1           0           0   \n",
              "2                 1            0            0           1           0   \n",
              "3                 0            0            1           0           0   \n",
              "4                 0            1            0           0           1   \n",
              "...             ...          ...          ...         ...         ...   \n",
              "35881             0            0            1           0           0   \n",
              "35882             0            1            0           0           1   \n",
              "35883             0            0            1           0           0   \n",
              "35884             1            0            0           1           0   \n",
              "35885             0            0            1           0           0   \n",
              "\n",
              "       network_HT  \n",
              "0               1  \n",
              "1               1  \n",
              "2               0  \n",
              "3               1  \n",
              "4               0  \n",
              "...           ...  \n",
              "35881           1  \n",
              "35882           0  \n",
              "35883           1  \n",
              "35884           0  \n",
              "35885           1  \n",
              "\n",
              "[35886 rows x 68 columns]"
            ],
            "text/html": [
              "\n",
              "  <div id=\"df-bd20c59f-7bf1-494c-aa30-60f841ccb1cf\">\n",
              "    <div class=\"colab-df-container\">\n",
              "      <div>\n",
              "<style scoped>\n",
              "    .dataframe tbody tr th:only-of-type {\n",
              "        vertical-align: middle;\n",
              "    }\n",
              "\n",
              "    .dataframe tbody tr th {\n",
              "        vertical-align: top;\n",
              "    }\n",
              "\n",
              "    .dataframe thead th {\n",
              "        text-align: right;\n",
              "    }\n",
              "</style>\n",
              "<table border=\"1\" class=\"dataframe\">\n",
              "  <thead>\n",
              "    <tr style=\"text-align: right;\">\n",
              "      <th></th>\n",
              "      <th>id</th>\n",
              "      <th>phase</th>\n",
              "      <th>E-1</th>\n",
              "      <th>E-2</th>\n",
              "      <th>E-3</th>\n",
              "      <th>E-4</th>\n",
              "      <th>E-5</th>\n",
              "      <th>E-6</th>\n",
              "      <th>E-7</th>\n",
              "      <th>E-8</th>\n",
              "      <th>...</th>\n",
              "      <th>Z-17</th>\n",
              "      <th>Z-18</th>\n",
              "      <th>Z-19</th>\n",
              "      <th>Z-20</th>\n",
              "      <th>station_AC04</th>\n",
              "      <th>station_AMT</th>\n",
              "      <th>station_AOS</th>\n",
              "      <th>network_C1</th>\n",
              "      <th>network_HP</th>\n",
              "      <th>network_HT</th>\n",
              "    </tr>\n",
              "  </thead>\n",
              "  <tbody>\n",
              "    <tr>\n",
              "      <th>0</th>\n",
              "      <td>0</td>\n",
              "      <td>6</td>\n",
              "      <td>-40.060604</td>\n",
              "      <td>-260.707855</td>\n",
              "      <td>-2295.125732</td>\n",
              "      <td>-5077.934570</td>\n",
              "      <td>-6510.237793</td>\n",
              "      <td>-6507.307617</td>\n",
              "      <td>-6570.841309</td>\n",
              "      <td>-6639.744141</td>\n",
              "      <td>...</td>\n",
              "      <td>5408.335938</td>\n",
              "      <td>7083.473633</td>\n",
              "      <td>8639.500977</td>\n",
              "      <td>9888.334961</td>\n",
              "      <td>0</td>\n",
              "      <td>0</td>\n",
              "      <td>1</td>\n",
              "      <td>0</td>\n",
              "      <td>0</td>\n",
              "      <td>1</td>\n",
              "    </tr>\n",
              "    <tr>\n",
              "      <th>1</th>\n",
              "      <td>1</td>\n",
              "      <td>6</td>\n",
              "      <td>-918.338989</td>\n",
              "      <td>-130.808212</td>\n",
              "      <td>-180.710327</td>\n",
              "      <td>-888.181763</td>\n",
              "      <td>-1270.482300</td>\n",
              "      <td>-1396.425903</td>\n",
              "      <td>-1328.800293</td>\n",
              "      <td>-1324.853394</td>\n",
              "      <td>...</td>\n",
              "      <td>415.490448</td>\n",
              "      <td>750.097290</td>\n",
              "      <td>1068.296143</td>\n",
              "      <td>1360.592407</td>\n",
              "      <td>0</td>\n",
              "      <td>0</td>\n",
              "      <td>1</td>\n",
              "      <td>0</td>\n",
              "      <td>0</td>\n",
              "      <td>1</td>\n",
              "    </tr>\n",
              "    <tr>\n",
              "      <th>2</th>\n",
              "      <td>2</td>\n",
              "      <td>4</td>\n",
              "      <td>-19588.193359</td>\n",
              "      <td>-22775.435547</td>\n",
              "      <td>-14151.219727</td>\n",
              "      <td>-1106.306152</td>\n",
              "      <td>479.042145</td>\n",
              "      <td>8777.960938</td>\n",
              "      <td>27075.169922</td>\n",
              "      <td>24998.861328</td>\n",
              "      <td>...</td>\n",
              "      <td>-9635.690430</td>\n",
              "      <td>2515.936035</td>\n",
              "      <td>5403.634766</td>\n",
              "      <td>7697.293945</td>\n",
              "      <td>1</td>\n",
              "      <td>0</td>\n",
              "      <td>0</td>\n",
              "      <td>1</td>\n",
              "      <td>0</td>\n",
              "      <td>0</td>\n",
              "    </tr>\n",
              "    <tr>\n",
              "      <th>3</th>\n",
              "      <td>3</td>\n",
              "      <td>0</td>\n",
              "      <td>71.364502</td>\n",
              "      <td>102.589439</td>\n",
              "      <td>140.858856</td>\n",
              "      <td>113.558861</td>\n",
              "      <td>72.772079</td>\n",
              "      <td>97.952866</td>\n",
              "      <td>132.099426</td>\n",
              "      <td>98.619576</td>\n",
              "      <td>...</td>\n",
              "      <td>-43.658840</td>\n",
              "      <td>-37.447033</td>\n",
              "      <td>-41.053375</td>\n",
              "      <td>-54.754852</td>\n",
              "      <td>0</td>\n",
              "      <td>0</td>\n",
              "      <td>1</td>\n",
              "      <td>0</td>\n",
              "      <td>0</td>\n",
              "      <td>1</td>\n",
              "    </tr>\n",
              "    <tr>\n",
              "      <th>4</th>\n",
              "      <td>4</td>\n",
              "      <td>6</td>\n",
              "      <td>11264.663086</td>\n",
              "      <td>16095.182617</td>\n",
              "      <td>16701.796875</td>\n",
              "      <td>15911.804688</td>\n",
              "      <td>13841.098633</td>\n",
              "      <td>11352.826172</td>\n",
              "      <td>9862.090820</td>\n",
              "      <td>9329.799805</td>\n",
              "      <td>...</td>\n",
              "      <td>178161.437500</td>\n",
              "      <td>185418.484375</td>\n",
              "      <td>191004.015625</td>\n",
              "      <td>193284.250000</td>\n",
              "      <td>0</td>\n",
              "      <td>1</td>\n",
              "      <td>0</td>\n",
              "      <td>0</td>\n",
              "      <td>1</td>\n",
              "      <td>0</td>\n",
              "    </tr>\n",
              "    <tr>\n",
              "      <th>...</th>\n",
              "      <td>...</td>\n",
              "      <td>...</td>\n",
              "      <td>...</td>\n",
              "      <td>...</td>\n",
              "      <td>...</td>\n",
              "      <td>...</td>\n",
              "      <td>...</td>\n",
              "      <td>...</td>\n",
              "      <td>...</td>\n",
              "      <td>...</td>\n",
              "      <td>...</td>\n",
              "      <td>...</td>\n",
              "      <td>...</td>\n",
              "      <td>...</td>\n",
              "      <td>...</td>\n",
              "      <td>...</td>\n",
              "      <td>...</td>\n",
              "      <td>...</td>\n",
              "      <td>...</td>\n",
              "      <td>...</td>\n",
              "      <td>...</td>\n",
              "    </tr>\n",
              "    <tr>\n",
              "      <th>35881</th>\n",
              "      <td>35881</td>\n",
              "      <td>6</td>\n",
              "      <td>7880.614746</td>\n",
              "      <td>8688.561523</td>\n",
              "      <td>8825.509766</td>\n",
              "      <td>8084.964844</td>\n",
              "      <td>6757.714355</td>\n",
              "      <td>5400.477051</td>\n",
              "      <td>4112.736816</td>\n",
              "      <td>2953.214600</td>\n",
              "      <td>...</td>\n",
              "      <td>4446.166016</td>\n",
              "      <td>4281.390625</td>\n",
              "      <td>3773.695312</td>\n",
              "      <td>2911.149658</td>\n",
              "      <td>0</td>\n",
              "      <td>0</td>\n",
              "      <td>1</td>\n",
              "      <td>0</td>\n",
              "      <td>0</td>\n",
              "      <td>1</td>\n",
              "    </tr>\n",
              "    <tr>\n",
              "      <th>35882</th>\n",
              "      <td>35882</td>\n",
              "      <td>6</td>\n",
              "      <td>-1862.605469</td>\n",
              "      <td>-1015.105225</td>\n",
              "      <td>-1491.742554</td>\n",
              "      <td>112.670189</td>\n",
              "      <td>458.357025</td>\n",
              "      <td>-548.750671</td>\n",
              "      <td>5934.537109</td>\n",
              "      <td>447.223450</td>\n",
              "      <td>...</td>\n",
              "      <td>-1261.064331</td>\n",
              "      <td>-1045.916626</td>\n",
              "      <td>1086.603638</td>\n",
              "      <td>-1823.545044</td>\n",
              "      <td>0</td>\n",
              "      <td>1</td>\n",
              "      <td>0</td>\n",
              "      <td>0</td>\n",
              "      <td>1</td>\n",
              "      <td>0</td>\n",
              "    </tr>\n",
              "    <tr>\n",
              "      <th>35883</th>\n",
              "      <td>35883</td>\n",
              "      <td>6</td>\n",
              "      <td>-4897.524414</td>\n",
              "      <td>-4547.483887</td>\n",
              "      <td>-3450.159668</td>\n",
              "      <td>-2070.732422</td>\n",
              "      <td>-739.391541</td>\n",
              "      <td>1491.856323</td>\n",
              "      <td>4499.432617</td>\n",
              "      <td>6384.674316</td>\n",
              "      <td>...</td>\n",
              "      <td>4317.965820</td>\n",
              "      <td>5215.839355</td>\n",
              "      <td>5016.916016</td>\n",
              "      <td>3708.820557</td>\n",
              "      <td>0</td>\n",
              "      <td>0</td>\n",
              "      <td>1</td>\n",
              "      <td>0</td>\n",
              "      <td>0</td>\n",
              "      <td>1</td>\n",
              "    </tr>\n",
              "    <tr>\n",
              "      <th>35884</th>\n",
              "      <td>35884</td>\n",
              "      <td>2</td>\n",
              "      <td>-21840.333984</td>\n",
              "      <td>-21545.867188</td>\n",
              "      <td>1763.364014</td>\n",
              "      <td>63479.605469</td>\n",
              "      <td>107657.640625</td>\n",
              "      <td>97654.109375</td>\n",
              "      <td>24631.556641</td>\n",
              "      <td>-40136.253906</td>\n",
              "      <td>...</td>\n",
              "      <td>65886.500000</td>\n",
              "      <td>165103.140625</td>\n",
              "      <td>146718.015625</td>\n",
              "      <td>-80342.414062</td>\n",
              "      <td>1</td>\n",
              "      <td>0</td>\n",
              "      <td>0</td>\n",
              "      <td>1</td>\n",
              "      <td>0</td>\n",
              "      <td>0</td>\n",
              "    </tr>\n",
              "    <tr>\n",
              "      <th>35885</th>\n",
              "      <td>35885</td>\n",
              "      <td>6</td>\n",
              "      <td>-309.833557</td>\n",
              "      <td>-272.838654</td>\n",
              "      <td>-296.737488</td>\n",
              "      <td>-178.110062</td>\n",
              "      <td>-19.003536</td>\n",
              "      <td>14.257061</td>\n",
              "      <td>-35.506229</td>\n",
              "      <td>-49.574570</td>\n",
              "      <td>...</td>\n",
              "      <td>-815.123901</td>\n",
              "      <td>-622.200317</td>\n",
              "      <td>-503.484772</td>\n",
              "      <td>-418.234344</td>\n",
              "      <td>0</td>\n",
              "      <td>0</td>\n",
              "      <td>1</td>\n",
              "      <td>0</td>\n",
              "      <td>0</td>\n",
              "      <td>1</td>\n",
              "    </tr>\n",
              "  </tbody>\n",
              "</table>\n",
              "<p>35886 rows × 68 columns</p>\n",
              "</div>\n",
              "      <button class=\"colab-df-convert\" onclick=\"convertToInteractive('df-bd20c59f-7bf1-494c-aa30-60f841ccb1cf')\"\n",
              "              title=\"Convert this dataframe to an interactive table.\"\n",
              "              style=\"display:none;\">\n",
              "        \n",
              "  <svg xmlns=\"http://www.w3.org/2000/svg\" height=\"24px\"viewBox=\"0 0 24 24\"\n",
              "       width=\"24px\">\n",
              "    <path d=\"M0 0h24v24H0V0z\" fill=\"none\"/>\n",
              "    <path d=\"M18.56 5.44l.94 2.06.94-2.06 2.06-.94-2.06-.94-.94-2.06-.94 2.06-2.06.94zm-11 1L8.5 8.5l.94-2.06 2.06-.94-2.06-.94L8.5 2.5l-.94 2.06-2.06.94zm10 10l.94 2.06.94-2.06 2.06-.94-2.06-.94-.94-2.06-.94 2.06-2.06.94z\"/><path d=\"M17.41 7.96l-1.37-1.37c-.4-.4-.92-.59-1.43-.59-.52 0-1.04.2-1.43.59L10.3 9.45l-7.72 7.72c-.78.78-.78 2.05 0 2.83L4 21.41c.39.39.9.59 1.41.59.51 0 1.02-.2 1.41-.59l7.78-7.78 2.81-2.81c.8-.78.8-2.07 0-2.86zM5.41 20L4 18.59l7.72-7.72 1.47 1.35L5.41 20z\"/>\n",
              "  </svg>\n",
              "      </button>\n",
              "      \n",
              "  <style>\n",
              "    .colab-df-container {\n",
              "      display:flex;\n",
              "      flex-wrap:wrap;\n",
              "      gap: 12px;\n",
              "    }\n",
              "\n",
              "    .colab-df-convert {\n",
              "      background-color: #E8F0FE;\n",
              "      border: none;\n",
              "      border-radius: 50%;\n",
              "      cursor: pointer;\n",
              "      display: none;\n",
              "      fill: #1967D2;\n",
              "      height: 32px;\n",
              "      padding: 0 0 0 0;\n",
              "      width: 32px;\n",
              "    }\n",
              "\n",
              "    .colab-df-convert:hover {\n",
              "      background-color: #E2EBFA;\n",
              "      box-shadow: 0px 1px 2px rgba(60, 64, 67, 0.3), 0px 1px 3px 1px rgba(60, 64, 67, 0.15);\n",
              "      fill: #174EA6;\n",
              "    }\n",
              "\n",
              "    [theme=dark] .colab-df-convert {\n",
              "      background-color: #3B4455;\n",
              "      fill: #D2E3FC;\n",
              "    }\n",
              "\n",
              "    [theme=dark] .colab-df-convert:hover {\n",
              "      background-color: #434B5C;\n",
              "      box-shadow: 0px 1px 3px 1px rgba(0, 0, 0, 0.15);\n",
              "      filter: drop-shadow(0px 1px 2px rgba(0, 0, 0, 0.3));\n",
              "      fill: #FFFFFF;\n",
              "    }\n",
              "  </style>\n",
              "\n",
              "      <script>\n",
              "        const buttonEl =\n",
              "          document.querySelector('#df-bd20c59f-7bf1-494c-aa30-60f841ccb1cf button.colab-df-convert');\n",
              "        buttonEl.style.display =\n",
              "          google.colab.kernel.accessAllowed ? 'block' : 'none';\n",
              "\n",
              "        async function convertToInteractive(key) {\n",
              "          const element = document.querySelector('#df-bd20c59f-7bf1-494c-aa30-60f841ccb1cf');\n",
              "          const dataTable =\n",
              "            await google.colab.kernel.invokeFunction('convertToInteractive',\n",
              "                                                     [key], {});\n",
              "          if (!dataTable) return;\n",
              "\n",
              "          const docLinkHtml = 'Like what you see? Visit the ' +\n",
              "            '<a target=\"_blank\" href=https://colab.research.google.com/notebooks/data_table.ipynb>data table notebook</a>'\n",
              "            + ' to learn more about interactive tables.';\n",
              "          element.innerHTML = '';\n",
              "          dataTable['output_type'] = 'display_data';\n",
              "          await google.colab.output.renderOutput(dataTable, element);\n",
              "          const docLink = document.createElement('div');\n",
              "          docLink.innerHTML = docLinkHtml;\n",
              "          element.appendChild(docLink);\n",
              "        }\n",
              "      </script>\n",
              "    </div>\n",
              "  </div>\n",
              "  "
            ]
          },
          "metadata": {},
          "execution_count": 152
        }
      ]
    },
    {
      "cell_type": "markdown",
      "source": [
        "The OHE result can be see in last several data above. TRUE or FALSE value comes in numerical format (1 and 0)   "
      ],
      "metadata": {
        "id": "xIGS909feci3"
      }
    },
    {
      "cell_type": "markdown",
      "source": [
        "## Oversampling using SMOTE\n",
        " "
      ],
      "metadata": {
        "id": "CHZ9svV6ay3L"
      }
    },
    {
      "cell_type": "markdown",
      "source": [
        "### Takeout lable from dataframe\n",
        "Firstly, we need to separate class from data. "
      ],
      "metadata": {
        "id": "4A0237kAb5ps"
      }
    },
    {
      "cell_type": "code",
      "source": [
        "train_label = res['phase']\n",
        "train = res.drop('phase', 1)\n",
        "print(train_label)"
      ],
      "metadata": {
        "colab": {
          "base_uri": "https://localhost:8080/"
        },
        "id": "7-1e3cgugNdw",
        "outputId": "b676bbaa-58e6-4030-b8b4-42ae46805ab8"
      },
      "execution_count": null,
      "outputs": [
        {
          "output_type": "stream",
          "name": "stdout",
          "text": [
            "0        6\n",
            "1        6\n",
            "2        4\n",
            "3        0\n",
            "4        6\n",
            "        ..\n",
            "35881    6\n",
            "35882    6\n",
            "35883    6\n",
            "35884    2\n",
            "35885    6\n",
            "Name: phase, Length: 35886, dtype: int64\n"
          ]
        },
        {
          "output_type": "stream",
          "name": "stderr",
          "text": [
            "/usr/local/lib/python3.7/dist-packages/ipykernel_launcher.py:2: FutureWarning: In a future version of pandas all arguments of DataFrame.drop except for the argument 'labels' will be keyword-only\n",
            "  \n"
          ]
        }
      ]
    },
    {
      "cell_type": "code",
      "source": [
        "smote = SMOTE()\n",
        "train, train_label = smote.fit_resample(train, train_label)"
      ],
      "metadata": {
        "id": "PiqNCnk8NviW"
      },
      "execution_count": null,
      "outputs": []
    },
    {
      "cell_type": "code",
      "source": [
        "sns.displot(train_label)"
      ],
      "metadata": {
        "colab": {
          "base_uri": "https://localhost:8080/"
        },
        "id": "xGqJ4QgcfqtV",
        "outputId": "60273412-0251-40ea-b7ab-aa75e893b6f6"
      },
      "execution_count": null,
      "outputs": [
        {
          "output_type": "execute_result",
          "data": {
            "text/plain": [
              "<seaborn.axisgrid.FacetGrid at 0x7f991d5bd290>"
            ]
          },
          "metadata": {},
          "execution_count": 155
        },
        {
          "output_type": "display_data",
          "data": {
            "text/plain": [
              "<Figure size 360x360 with 1 Axes>"
            ],
            "image/png": "[encoded data removed]"
          },
          "metadata": {
            "needs_background": "light"
          }
        }
      ]
    },
    {
      "cell_type": "markdown",
      "source": [
        "As you can see from above diagram, all 6 classes have the same amount.  "
      ],
      "metadata": {
        "id": "YG9nlBbCfxds"
      }
    },
    {
      "cell_type": "markdown",
      "source": [
        "## Checking features distribution \n",
        "Why we need to check features distribution?. first, it can show outlier, outlier can be troublesome for our model so it important to find. second, large data distribution can reduce our model performance. "
      ],
      "metadata": {
        "id": "Ax23va-qn1wa"
      }
    },
    {
      "cell_type": "code",
      "source": [
        "num_cols = [x for x in train.columns]\n",
        "cols = num_cols[1:-6]\n",
        "E = train[cols[1:20]]\n",
        "N = train[cols[21:40]]\n",
        "Z = train[cols[41:60]]\n",
        "ax = sns.boxplot(data=E, orient=\"h\", palette=\"Set2\")"
      ],
      "metadata": {
        "colab": {
          "base_uri": "https://localhost:8080/"
        },
        "id": "OfWKQqk-hAfP",
        "outputId": "b1c87dc4-1eea-4102-fc7a-0ed912b0a880"
      },
      "execution_count": null,
      "outputs": [
        {
          "output_type": "display_data",
          "data": {
            "text/plain": [
              "<Figure size 432x288 with 1 Axes>"
            ],
            "image/png": "[encoded data removed]"
          },
          "metadata": {
            "needs_background": "light"
          }
        }
      ]
    },
    {
      "cell_type": "code",
      "source": [
        "ax = sns.boxplot(data=N, orient=\"h\", palette=\"Set2\")"
      ],
      "metadata": {
        "colab": {
          "base_uri": "https://localhost:8080/"
        },
        "id": "3tHrpEkmmJy5",
        "outputId": "922628a1-4460-433f-d9e5-5d2d6154dbe7"
      },
      "execution_count": null,
      "outputs": [
        {
          "output_type": "display_data",
          "data": {
            "text/plain": [
              "<Figure size 432x288 with 1 Axes>"
            ],
            "image/png": "[encoded data removed]"
          },
          "metadata": {
            "needs_background": "light"
          }
        }
      ]
    },
    {
      "cell_type": "code",
      "source": [
        "ax = sns.boxplot(data=Z, orient=\"h\", palette=\"Set2\")"
      ],
      "metadata": {
        "colab": {
          "base_uri": "https://localhost:8080/"
        },
        "id": "3YH2DQPomLCP",
        "outputId": "d272b0b4-c514-4f54-e572-8de79d8ff913"
      },
      "execution_count": null,
      "outputs": [
        {
          "output_type": "display_data",
          "data": {
            "text/plain": [
              "<Figure size 432x288 with 1 Axes>"
            ],
            "image/png": "[encoded data removed]"
          },
          "metadata": {
            "needs_background": "light"
          }
        }
      ]
    },
    {
      "cell_type": "markdown",
      "source": [
        "From a several diagram above we can see that each sensor (E,N and Z) have large distribution. In the below right corner of each diagram it show (le6), we can asume it to be less than or equal to 6 digit. Based on those things we need to scaling our data. In this process we gonna use standard scaler, before that we need to split data so each data train and test will have it own range distribution."
      ],
      "metadata": {
        "id": "lV9nHk2SocCI"
      }
    },
    {
      "cell_type": "markdown",
      "source": [
        "### Split Data"
      ],
      "metadata": {
        "id": "gCTvIGP_nWFs"
      }
    },
    {
      "cell_type": "code",
      "source": [
        "x_train, x_test, y_train, y_test  = train_test_split(train, train_label, random_state=42, test_size=0.1)"
      ],
      "metadata": {
        "id": "u-KdQnrbfq92"
      },
      "execution_count": null,
      "outputs": []
    },
    {
      "cell_type": "markdown",
      "source": [
        "## Standard Scaler Process"
      ],
      "metadata": {
        "id": "FLOihSGwq6Hf"
      }
    },
    {
      "cell_type": "code",
      "source": [
        "st = MaxAbsScaler()\n",
        "# st = StandardScaler()\n",
        "x_train.iloc[:, 1:-6] = pd.DataFrame(st.fit_transform(x_train.values[:, 1:-6]), columns=x_train.columns.values[1:-6], index=x_train.index)\n",
        "x_test.iloc[:, 1:-6] = pd.DataFrame(st.transform(x_test.values[:, 1:-6]), columns=x_test.columns.values[1:-6], index=x_test.index)\n",
        "res_test.iloc[:, 1:-6] = pd.DataFrame(st.transform(res_test.values[:, 1:-6]), columns=res_test.columns.values[1:-6], index=res_test.index)\n",
        "x_train"
      ],
      "metadata": {
        "colab": {
          "base_uri": "https://localhost:8080/",
          "height": 661
        },
        "id": "k0087pnPLRnN",
        "outputId": "dd45231c-9079-4b25-fcd1-a47687831ed4"
      },
      "execution_count": null,
      "outputs": [
        {
          "output_type": "execute_result",
          "data": {
            "text/plain": [
              "           id       E-1       E-2       E-3       E-4       E-5       E-6  \\\n",
              "2513     2513 -0.000540 -0.000679 -0.000806 -0.000903 -0.000879 -0.000834   \n",
              "80918   16296  0.009123  0.003415  0.001773 -0.001576 -0.003388 -0.013512   \n",
              "46909   17429 -0.000022 -0.000028 -0.000019 -0.000014 -0.000026 -0.000031   \n",
              "14747   14747 -0.002738  0.003807 -0.000251 -0.008513 -0.017118 -0.019569   \n",
              "39949    6748  0.000003  0.000007 -0.000002  0.000001  0.000006 -0.000002   \n",
              "...       ...       ...       ...       ...       ...       ...       ...   \n",
              "76820   12316  0.024840  0.019857  0.009713 -0.003784 -0.012948 -0.007792   \n",
              "110268   9896 -0.304863 -0.308178 -0.305642 -0.303427 -0.281654 -0.252690   \n",
              "103694  23191 -0.305669 -0.299165 -0.284477 -0.262534 -0.223090 -0.181124   \n",
              "860       860  0.000274  0.001008  0.001549  0.001960  0.002285  0.002579   \n",
              "15795   15795 -0.013348  0.008665  0.030122  0.035452  0.024135  0.010800   \n",
              "\n",
              "             E-7       E-8           E-9  ...      Z-17      Z-18      Z-19  \\\n",
              "2513   -0.000778 -0.000712 -6.418802e-04  ... -0.000059 -0.000007  0.000001   \n",
              "80918  -0.027666 -0.028836 -2.547784e-02  ... -0.018567  0.008067  0.003651   \n",
              "46909  -0.000018 -0.000012 -2.471876e-05  ...  0.000026  0.000026  0.000030   \n",
              "14747  -0.008430  0.009357  2.237942e-02  ... -0.009021  0.002147  0.006407   \n",
              "39949  -0.000003  0.000004  2.483892e-08  ...  0.000010  0.000005  0.000013   \n",
              "...          ...       ...           ...  ...       ...       ...       ...   \n",
              "76820   0.003488 -0.001405 -9.844791e-03  ...  0.005575 -0.014914 -0.018675   \n",
              "110268 -0.216025 -0.172913 -1.224077e-01  ... -0.036333 -0.045824 -0.049160   \n",
              "103694 -0.131758 -0.081934 -3.183804e-02  ... -0.048524 -0.048498 -0.042426   \n",
              "860     0.002463  0.002050  1.683963e-03  ...  0.000338  0.000361  0.000057   \n",
              "15795  -0.001505 -0.010816 -8.070675e-03  ... -0.002216  0.003265  0.007339   \n",
              "\n",
              "            Z-20  station_AC04  station_AMT  station_AOS  network_C1  \\\n",
              "2513   -0.000013             0            0            1           0   \n",
              "80918  -0.038513             1            0            0           1   \n",
              "46909   0.000034             0            0            0           0   \n",
              "14747   0.003067             1            0            0           1   \n",
              "39949   0.000008             1            0            0           1   \n",
              "...          ...           ...          ...          ...         ...   \n",
              "76820  -0.006684             0            0            1           0   \n",
              "110268 -0.048306             0            1            0           0   \n",
              "103694 -0.032883             0            1            0           0   \n",
              "860    -0.000382             0            0            1           0   \n",
              "15795   0.005859             1            0            0           1   \n",
              "\n",
              "        network_HP  network_HT  \n",
              "2513             0           1  \n",
              "80918            0           0  \n",
              "46909            0           0  \n",
              "14747            0           0  \n",
              "39949            0           0  \n",
              "...            ...         ...  \n",
              "76820            0           1  \n",
              "110268           1           0  \n",
              "103694           1           0  \n",
              "860              0           1  \n",
              "15795            0           0  \n",
              "\n",
              "[104340 rows x 67 columns]"
            ],
            "text/html": [
              "\n",
              "  <div id=\"df-c25c530f-0955-46df-8869-7c414f024986\">\n",
              "    <div class=\"colab-df-container\">\n",
              "      <div>\n",
              "<style scoped>\n",
              "    .dataframe tbody tr th:only-of-type {\n",
              "        vertical-align: middle;\n",
              "    }\n",
              "\n",
              "    .dataframe tbody tr th {\n",
              "        vertical-align: top;\n",
              "    }\n",
              "\n",
              "    .dataframe thead th {\n",
              "        text-align: right;\n",
              "    }\n",
              "</style>\n",
              "<table border=\"1\" class=\"dataframe\">\n",
              "  <thead>\n",
              "    <tr style=\"text-align: right;\">\n",
              "      <th></th>\n",
              "      <th>id</th>\n",
              "      <th>E-1</th>\n",
              "      <th>E-2</th>\n",
              "      <th>E-3</th>\n",
              "      <th>E-4</th>\n",
              "      <th>E-5</th>\n",
              "      <th>E-6</th>\n",
              "      <th>E-7</th>\n",
              "      <th>E-8</th>\n",
              "      <th>E-9</th>\n",
              "      <th>...</th>\n",
              "      <th>Z-17</th>\n",
              "      <th>Z-18</th>\n",
              "      <th>Z-19</th>\n",
              "      <th>Z-20</th>\n",
              "      <th>station_AC04</th>\n",
              "      <th>station_AMT</th>\n",
              "      <th>station_AOS</th>\n",
              "      <th>network_C1</th>\n",
              "      <th>network_HP</th>\n",
              "      <th>network_HT</th>\n",
              "    </tr>\n",
              "  </thead>\n",
              "  <tbody>\n",
              "    <tr>\n",
              "      <th>2513</th>\n",
              "      <td>2513</td>\n",
              "      <td>-0.000540</td>\n",
              "      <td>-0.000679</td>\n",
              "      <td>-0.000806</td>\n",
              "      <td>-0.000903</td>\n",
              "      <td>-0.000879</td>\n",
              "      <td>-0.000834</td>\n",
              "      <td>-0.000778</td>\n",
              "      <td>-0.000712</td>\n",
              "      <td>-6.418802e-04</td>\n",
              "      <td>...</td>\n",
              "      <td>-0.000059</td>\n",
              "      <td>-0.000007</td>\n",
              "      <td>0.000001</td>\n",
              "      <td>-0.000013</td>\n",
              "      <td>0</td>\n",
              "      <td>0</td>\n",
              "      <td>1</td>\n",
              "      <td>0</td>\n",
              "      <td>0</td>\n",
              "      <td>1</td>\n",
              "    </tr>\n",
              "    <tr>\n",
              "      <th>80918</th>\n",
              "      <td>16296</td>\n",
              "      <td>0.009123</td>\n",
              "      <td>0.003415</td>\n",
              "      <td>0.001773</td>\n",
              "      <td>-0.001576</td>\n",
              "      <td>-0.003388</td>\n",
              "      <td>-0.013512</td>\n",
              "      <td>-0.027666</td>\n",
              "      <td>-0.028836</td>\n",
              "      <td>-2.547784e-02</td>\n",
              "      <td>...</td>\n",
              "      <td>-0.018567</td>\n",
              "      <td>0.008067</td>\n",
              "      <td>0.003651</td>\n",
              "      <td>-0.038513</td>\n",
              "      <td>1</td>\n",
              "      <td>0</td>\n",
              "      <td>0</td>\n",
              "      <td>1</td>\n",
              "      <td>0</td>\n",
              "      <td>0</td>\n",
              "    </tr>\n",
              "    <tr>\n",
              "      <th>46909</th>\n",
              "      <td>17429</td>\n",
              "      <td>-0.000022</td>\n",
              "      <td>-0.000028</td>\n",
              "      <td>-0.000019</td>\n",
              "      <td>-0.000014</td>\n",
              "      <td>-0.000026</td>\n",
              "      <td>-0.000031</td>\n",
              "      <td>-0.000018</td>\n",
              "      <td>-0.000012</td>\n",
              "      <td>-2.471876e-05</td>\n",
              "      <td>...</td>\n",
              "      <td>0.000026</td>\n",
              "      <td>0.000026</td>\n",
              "      <td>0.000030</td>\n",
              "      <td>0.000034</td>\n",
              "      <td>0</td>\n",
              "      <td>0</td>\n",
              "      <td>0</td>\n",
              "      <td>0</td>\n",
              "      <td>0</td>\n",
              "      <td>0</td>\n",
              "    </tr>\n",
              "    <tr>\n",
              "      <th>14747</th>\n",
              "      <td>14747</td>\n",
              "      <td>-0.002738</td>\n",
              "      <td>0.003807</td>\n",
              "      <td>-0.000251</td>\n",
              "      <td>-0.008513</td>\n",
              "      <td>-0.017118</td>\n",
              "      <td>-0.019569</td>\n",
              "      <td>-0.008430</td>\n",
              "      <td>0.009357</td>\n",
              "      <td>2.237942e-02</td>\n",
              "      <td>...</td>\n",
              "      <td>-0.009021</td>\n",
              "      <td>0.002147</td>\n",
              "      <td>0.006407</td>\n",
              "      <td>0.003067</td>\n",
              "      <td>1</td>\n",
              "      <td>0</td>\n",
              "      <td>0</td>\n",
              "      <td>1</td>\n",
              "      <td>0</td>\n",
              "      <td>0</td>\n",
              "    </tr>\n",
              "    <tr>\n",
              "      <th>39949</th>\n",
              "      <td>6748</td>\n",
              "      <td>0.000003</td>\n",
              "      <td>0.000007</td>\n",
              "      <td>-0.000002</td>\n",
              "      <td>0.000001</td>\n",
              "      <td>0.000006</td>\n",
              "      <td>-0.000002</td>\n",
              "      <td>-0.000003</td>\n",
              "      <td>0.000004</td>\n",
              "      <td>2.483892e-08</td>\n",
              "      <td>...</td>\n",
              "      <td>0.000010</td>\n",
              "      <td>0.000005</td>\n",
              "      <td>0.000013</td>\n",
              "      <td>0.000008</td>\n",
              "      <td>1</td>\n",
              "      <td>0</td>\n",
              "      <td>0</td>\n",
              "      <td>1</td>\n",
              "      <td>0</td>\n",
              "      <td>0</td>\n",
              "    </tr>\n",
              "    <tr>\n",
              "      <th>...</th>\n",
              "      <td>...</td>\n",
              "      <td>...</td>\n",
              "      <td>...</td>\n",
              "      <td>...</td>\n",
              "      <td>...</td>\n",
              "      <td>...</td>\n",
              "      <td>...</td>\n",
              "      <td>...</td>\n",
              "      <td>...</td>\n",
              "      <td>...</td>\n",
              "      <td>...</td>\n",
              "      <td>...</td>\n",
              "      <td>...</td>\n",
              "      <td>...</td>\n",
              "      <td>...</td>\n",
              "      <td>...</td>\n",
              "      <td>...</td>\n",
              "      <td>...</td>\n",
              "      <td>...</td>\n",
              "      <td>...</td>\n",
              "      <td>...</td>\n",
              "    </tr>\n",
              "    <tr>\n",
              "      <th>76820</th>\n",
              "      <td>12316</td>\n",
              "      <td>0.024840</td>\n",
              "      <td>0.019857</td>\n",
              "      <td>0.009713</td>\n",
              "      <td>-0.003784</td>\n",
              "      <td>-0.012948</td>\n",
              "      <td>-0.007792</td>\n",
              "      <td>0.003488</td>\n",
              "      <td>-0.001405</td>\n",
              "      <td>-9.844791e-03</td>\n",
              "      <td>...</td>\n",
              "      <td>0.005575</td>\n",
              "      <td>-0.014914</td>\n",
              "      <td>-0.018675</td>\n",
              "      <td>-0.006684</td>\n",
              "      <td>0</td>\n",
              "      <td>0</td>\n",
              "      <td>1</td>\n",
              "      <td>0</td>\n",
              "      <td>0</td>\n",
              "      <td>1</td>\n",
              "    </tr>\n",
              "    <tr>\n",
              "      <th>110268</th>\n",
              "      <td>9896</td>\n",
              "      <td>-0.304863</td>\n",
              "      <td>-0.308178</td>\n",
              "      <td>-0.305642</td>\n",
              "      <td>-0.303427</td>\n",
              "      <td>-0.281654</td>\n",
              "      <td>-0.252690</td>\n",
              "      <td>-0.216025</td>\n",
              "      <td>-0.172913</td>\n",
              "      <td>-1.224077e-01</td>\n",
              "      <td>...</td>\n",
              "      <td>-0.036333</td>\n",
              "      <td>-0.045824</td>\n",
              "      <td>-0.049160</td>\n",
              "      <td>-0.048306</td>\n",
              "      <td>0</td>\n",
              "      <td>1</td>\n",
              "      <td>0</td>\n",
              "      <td>0</td>\n",
              "      <td>1</td>\n",
              "      <td>0</td>\n",
              "    </tr>\n",
              "    <tr>\n",
              "      <th>103694</th>\n",
              "      <td>23191</td>\n",
              "      <td>-0.305669</td>\n",
              "      <td>-0.299165</td>\n",
              "      <td>-0.284477</td>\n",
              "      <td>-0.262534</td>\n",
              "      <td>-0.223090</td>\n",
              "      <td>-0.181124</td>\n",
              "      <td>-0.131758</td>\n",
              "      <td>-0.081934</td>\n",
              "      <td>-3.183804e-02</td>\n",
              "      <td>...</td>\n",
              "      <td>-0.048524</td>\n",
              "      <td>-0.048498</td>\n",
              "      <td>-0.042426</td>\n",
              "      <td>-0.032883</td>\n",
              "      <td>0</td>\n",
              "      <td>1</td>\n",
              "      <td>0</td>\n",
              "      <td>0</td>\n",
              "      <td>1</td>\n",
              "      <td>0</td>\n",
              "    </tr>\n",
              "    <tr>\n",
              "      <th>860</th>\n",
              "      <td>860</td>\n",
              "      <td>0.000274</td>\n",
              "      <td>0.001008</td>\n",
              "      <td>0.001549</td>\n",
              "      <td>0.001960</td>\n",
              "      <td>0.002285</td>\n",
              "      <td>0.002579</td>\n",
              "      <td>0.002463</td>\n",
              "      <td>0.002050</td>\n",
              "      <td>1.683963e-03</td>\n",
              "      <td>...</td>\n",
              "      <td>0.000338</td>\n",
              "      <td>0.000361</td>\n",
              "      <td>0.000057</td>\n",
              "      <td>-0.000382</td>\n",
              "      <td>0</td>\n",
              "      <td>0</td>\n",
              "      <td>1</td>\n",
              "      <td>0</td>\n",
              "      <td>0</td>\n",
              "      <td>1</td>\n",
              "    </tr>\n",
              "    <tr>\n",
              "      <th>15795</th>\n",
              "      <td>15795</td>\n",
              "      <td>-0.013348</td>\n",
              "      <td>0.008665</td>\n",
              "      <td>0.030122</td>\n",
              "      <td>0.035452</td>\n",
              "      <td>0.024135</td>\n",
              "      <td>0.010800</td>\n",
              "      <td>-0.001505</td>\n",
              "      <td>-0.010816</td>\n",
              "      <td>-8.070675e-03</td>\n",
              "      <td>...</td>\n",
              "      <td>-0.002216</td>\n",
              "      <td>0.003265</td>\n",
              "      <td>0.007339</td>\n",
              "      <td>0.005859</td>\n",
              "      <td>1</td>\n",
              "      <td>0</td>\n",
              "      <td>0</td>\n",
              "      <td>1</td>\n",
              "      <td>0</td>\n",
              "      <td>0</td>\n",
              "    </tr>\n",
              "  </tbody>\n",
              "</table>\n",
              "<p>104340 rows × 67 columns</p>\n",
              "</div>\n",
              "      <button class=\"colab-df-convert\" onclick=\"convertToInteractive('df-c25c530f-0955-46df-8869-7c414f024986')\"\n",
              "              title=\"Convert this dataframe to an interactive table.\"\n",
              "              style=\"display:none;\">\n",
              "        \n",
              "  <svg xmlns=\"http://www.w3.org/2000/svg\" height=\"24px\"viewBox=\"0 0 24 24\"\n",
              "       width=\"24px\">\n",
              "    <path d=\"M0 0h24v24H0V0z\" fill=\"none\"/>\n",
              "    <path d=\"M18.56 5.44l.94 2.06.94-2.06 2.06-.94-2.06-.94-.94-2.06-.94 2.06-2.06.94zm-11 1L8.5 8.5l.94-2.06 2.06-.94-2.06-.94L8.5 2.5l-.94 2.06-2.06.94zm10 10l.94 2.06.94-2.06 2.06-.94-2.06-.94-.94-2.06-.94 2.06-2.06.94z\"/><path d=\"M17.41 7.96l-1.37-1.37c-.4-.4-.92-.59-1.43-.59-.52 0-1.04.2-1.43.59L10.3 9.45l-7.72 7.72c-.78.78-.78 2.05 0 2.83L4 21.41c.39.39.9.59 1.41.59.51 0 1.02-.2 1.41-.59l7.78-7.78 2.81-2.81c.8-.78.8-2.07 0-2.86zM5.41 20L4 18.59l7.72-7.72 1.47 1.35L5.41 20z\"/>\n",
              "  </svg>\n",
              "      </button>\n",
              "      \n",
              "  <style>\n",
              "    .colab-df-container {\n",
              "      display:flex;\n",
              "      flex-wrap:wrap;\n",
              "      gap: 12px;\n",
              "    }\n",
              "\n",
              "    .colab-df-convert {\n",
              "      background-color: #E8F0FE;\n",
              "      border: none;\n",
              "      border-radius: 50%;\n",
              "      cursor: pointer;\n",
              "      display: none;\n",
              "      fill: #1967D2;\n",
              "      height: 32px;\n",
              "      padding: 0 0 0 0;\n",
              "      width: 32px;\n",
              "    }\n",
              "\n",
              "    .colab-df-convert:hover {\n",
              "      background-color: #E2EBFA;\n",
              "      box-shadow: 0px 1px 2px rgba(60, 64, 67, 0.3), 0px 1px 3px 1px rgba(60, 64, 67, 0.15);\n",
              "      fill: #174EA6;\n",
              "    }\n",
              "\n",
              "    [theme=dark] .colab-df-convert {\n",
              "      background-color: #3B4455;\n",
              "      fill: #D2E3FC;\n",
              "    }\n",
              "\n",
              "    [theme=dark] .colab-df-convert:hover {\n",
              "      background-color: #434B5C;\n",
              "      box-shadow: 0px 1px 3px 1px rgba(0, 0, 0, 0.15);\n",
              "      filter: drop-shadow(0px 1px 2px rgba(0, 0, 0, 0.3));\n",
              "      fill: #FFFFFF;\n",
              "    }\n",
              "  </style>\n",
              "\n",
              "      <script>\n",
              "        const buttonEl =\n",
              "          document.querySelector('#df-c25c530f-0955-46df-8869-7c414f024986 button.colab-df-convert');\n",
              "        buttonEl.style.display =\n",
              "          google.colab.kernel.accessAllowed ? 'block' : 'none';\n",
              "\n",
              "        async function convertToInteractive(key) {\n",
              "          const element = document.querySelector('#df-c25c530f-0955-46df-8869-7c414f024986');\n",
              "          const dataTable =\n",
              "            await google.colab.kernel.invokeFunction('convertToInteractive',\n",
              "                                                     [key], {});\n",
              "          if (!dataTable) return;\n",
              "\n",
              "          const docLinkHtml = 'Like what you see? Visit the ' +\n",
              "            '<a target=\"_blank\" href=https://colab.research.google.com/notebooks/data_table.ipynb>data table notebook</a>'\n",
              "            + ' to learn more about interactive tables.';\n",
              "          element.innerHTML = '';\n",
              "          dataTable['output_type'] = 'display_data';\n",
              "          await google.colab.output.renderOutput(dataTable, element);\n",
              "          const docLink = document.createElement('div');\n",
              "          docLink.innerHTML = docLinkHtml;\n",
              "          element.appendChild(docLink);\n",
              "        }\n",
              "      </script>\n",
              "    </div>\n",
              "  </div>\n",
              "  "
            ]
          },
          "metadata": {},
          "execution_count": 160
        }
      ]
    },
    {
      "cell_type": "code",
      "source": [
        "num_cols = [x for x in x_train.columns]\n",
        "cols = num_cols[1:-6]\n",
        "E = x_train[cols[1:20]]\n",
        "N = x_train[cols[21:40]]\n",
        "Z = x_train[cols[41:60]]\n",
        "ax = sns.boxplot(data=E, orient=\"h\", palette=\"Set2\")"
      ],
      "metadata": {
        "colab": {
          "base_uri": "https://localhost:8080/",
          "height": 265
        },
        "id": "rMdSyJEjjoNM",
        "outputId": "3b4e57e7-04fe-4379-f8f2-6810f7f95d1b"
      },
      "execution_count": null,
      "outputs": [
        {
          "output_type": "display_data",
          "data": {
            "text/plain": [
              "<Figure size 432x288 with 1 Axes>"
            ],
            "image/png": "[encoded data removed]"
          },
          "metadata": {
            "needs_background": "light"
          }
        }
      ]
    },
    {
      "cell_type": "code",
      "source": [
        "ax = sns.boxplot(data=N, orient=\"h\", palette=\"Set2\")"
      ],
      "metadata": {
        "colab": {
          "base_uri": "https://localhost:8080/",
          "height": 265
        },
        "id": "UkvoZQl7mBa5",
        "outputId": "5ae87013-04cf-4d79-fa2b-a33aa3c227bd"
      },
      "execution_count": null,
      "outputs": [
        {
          "output_type": "display_data",
          "data": {
            "text/plain": [
              "<Figure size 432x288 with 1 Axes>"
            ],
            "image/png": "[encoded data removed]"
          },
          "metadata": {
            "needs_background": "light"
          }
        }
      ]
    },
    {
      "cell_type": "code",
      "source": [
        "ax = sns.boxplot(data=Z, orient=\"h\", palette=\"Set2\")"
      ],
      "metadata": {
        "colab": {
          "base_uri": "https://localhost:8080/",
          "height": 265
        },
        "id": "Y9_750L9mCQm",
        "outputId": "c1252f64-b2f0-4551-d9ff-e7e052fbd48e"
      },
      "execution_count": null,
      "outputs": [
        {
          "output_type": "display_data",
          "data": {
            "text/plain": [
              "<Figure size 432x288 with 1 Axes>"
            ],
            "image/png": "[encoded data removed]"
          },
          "metadata": {
            "needs_background": "light"
          }
        }
      ]
    },
    {
      "cell_type": "markdown",
      "source": [
        "As we can see from several diagram above the distribution range has change drastically into lower distribution data. "
      ],
      "metadata": {
        "id": "K2_oUisprAyb"
      }
    },
    {
      "cell_type": "markdown",
      "source": [
        "##Modeling\n",
        "The main thing in this process is to define model and it own paramters and make it learn to our data train, so it can predict our test data"
      ],
      "metadata": {
        "id": "OPi2zhTTfd6T"
      }
    },
    {
      "cell_type": "markdown",
      "source": [
        "### Define Model"
      ],
      "metadata": {
        "id": "BNcKZTeAnTjX"
      }
    },
    {
      "cell_type": "code",
      "source": [
        "model = RandomForestClassifier(max_depth=100,min_samples_split=50, random_state=42)\n",
        "model.fit(x_train, y_train)"
      ],
      "metadata": {
        "colab": {
          "base_uri": "https://localhost:8080/"
        },
        "id": "vVCI0J7sfgfX",
        "outputId": "2c1731eb-8468-498d-87a6-9d57fd46a019"
      },
      "execution_count": null,
      "outputs": [
        {
          "output_type": "execute_result",
          "data": {
            "text/plain": [
              "RandomForestClassifier(max_depth=100, min_samples_split=50, random_state=42)"
            ]
          },
          "metadata": {},
          "execution_count": 161
        }
      ]
    },
    {
      "cell_type": "markdown",
      "source": [
        "### Prediction Result"
      ],
      "metadata": {
        "id": "7EK0Yd9enaB2"
      }
    },
    {
      "cell_type": "code",
      "source": [
        "predicted = model.predict(x_test)\n",
        "print(predicted)"
      ],
      "metadata": {
        "colab": {
          "base_uri": "https://localhost:8080/"
        },
        "id": "aBNIyAPHlbkC",
        "outputId": "16e1a90e-dc38-483d-c92d-7ac785ce230b"
      },
      "execution_count": null,
      "outputs": [
        {
          "output_type": "stream",
          "name": "stdout",
          "text": [
            "[3 4 5 ... 4 3 2]\n"
          ]
        }
      ]
    },
    {
      "cell_type": "markdown",
      "source": [
        "#### Metrics Result Without Balancing Class\n"
      ],
      "metadata": {
        "id": "uDgc5_eBm2wi"
      }
    },
    {
      "cell_type": "code",
      "source": [
        "print(f1_score(y_test, predicted, average=\"weighted\"))\n",
        "print(classification_report(y_test, predicted))"
      ],
      "metadata": {
        "colab": {
          "base_uri": "https://localhost:8080/"
        },
        "id": "jZ87BXprlk_K",
        "outputId": "5a10047e-4ee5-4ebb-dc6f-c5a3dd8b94d8"
      },
      "execution_count": null,
      "outputs": [
        {
          "output_type": "stream",
          "name": "stdout",
          "text": [
            "0.969042053155125\n",
            "              precision    recall  f1-score   support\n",
            "\n",
            "           0       1.00      1.00      1.00      1660\n",
            "           1       1.00      1.00      1.00      1682\n",
            "           2       0.95      0.99      0.97      1647\n",
            "           3       1.00      1.00      1.00      1635\n",
            "           4       0.91      0.89      0.90      1679\n",
            "           5       1.00      1.00      1.00      1572\n",
            "           6       0.93      0.91      0.92      1719\n",
            "\n",
            "    accuracy                           0.97     11594\n",
            "   macro avg       0.97      0.97      0.97     11594\n",
            "weighted avg       0.97      0.97      0.97     11594\n",
            "\n"
          ]
        }
      ]
    },
    {
      "cell_type": "markdown",
      "source": [
        "## Submission for kaggle"
      ],
      "metadata": {
        "id": "5zrnQpF9sWCd"
      }
    },
    {
      "cell_type": "code",
      "source": [
        "frames = [x_train, x_test]\n",
        "\n",
        "x = pd.concat(frames)\n",
        "frames = [y_train, y_test]\n",
        "\n",
        "y = pd.concat(frames)\n"
      ],
      "metadata": {
        "id": "6JNX6cqpsDuu"
      },
      "execution_count": null,
      "outputs": []
    },
    {
      "cell_type": "code",
      "source": [
        "model.fit(x, y)"
      ],
      "metadata": {
        "colab": {
          "base_uri": "https://localhost:8080/"
        },
        "id": "kYoQlLnfr9eY",
        "outputId": "a56be16e-2fe6-4b2c-8678-9a6e6ce789bb"
      },
      "execution_count": null,
      "outputs": [
        {
          "output_type": "execute_result",
          "data": {
            "text/plain": [
              "RandomForestClassifier(max_depth=100, min_samples_split=50, random_state=42)"
            ]
          },
          "metadata": {},
          "execution_count": 169
        }
      ]
    },
    {
      "cell_type": "markdown",
      "source": [
        "### Takeout Id test"
      ],
      "metadata": {
        "id": "1DSOGXHcsWCe"
      }
    },
    {
      "cell_type": "code",
      "source": [
        "test_id = res_test['id']\n",
        "print(test_id)"
      ],
      "metadata": {
        "colab": {
          "base_uri": "https://localhost:8080/"
        },
        "outputId": "69f88329-f191-4e8f-ab83-7a3a2c9ab150",
        "id": "10f1Jf4-sWCe"
      },
      "execution_count": null,
      "outputs": [
        {
          "output_type": "stream",
          "name": "stdout",
          "text": [
            "0            0\n",
            "1            1\n",
            "2            2\n",
            "3            3\n",
            "4            4\n",
            "         ...  \n",
            "23919    23919\n",
            "23920    23920\n",
            "23921    23921\n",
            "23922    23922\n",
            "23923    23923\n",
            "Name: id, Length: 23924, dtype: int64\n"
          ]
        }
      ]
    },
    {
      "cell_type": "code",
      "source": [
        "predicted = model.predict(res_test)\n",
        "print(predicted)"
      ],
      "metadata": {
        "colab": {
          "base_uri": "https://localhost:8080/"
        },
        "outputId": "0fe9a16d-8016-43c0-e745-0b54d90e5ea2",
        "id": "qKaSHznusWCf"
      },
      "execution_count": null,
      "outputs": [
        {
          "output_type": "stream",
          "name": "stdout",
          "text": [
            "[6 4 4 ... 4 4 4]\n"
          ]
        }
      ]
    },
    {
      "cell_type": "code",
      "source": [
        "res = pd.DataFrame(\n",
        "    {'id':test_id ,\n",
        "     'phase': predicted\n",
        "    })\n",
        "res"
      ],
      "metadata": {
        "colab": {
          "base_uri": "https://localhost:8080/"
        },
        "outputId": "9b5832de-6783-4e55-8c8b-b06dd306b32b",
        "id": "yZd4o5sRsWCg"
      },
      "execution_count": null,
      "outputs": [
        {
          "output_type": "execute_result",
          "data": {
            "text/plain": [
              "          id  phase\n",
              "0          0      6\n",
              "1          1      4\n",
              "2          2      4\n",
              "3          3      4\n",
              "4          4      0\n",
              "...      ...    ...\n",
              "23919  23919      4\n",
              "23920  23920      6\n",
              "23921  23921      4\n",
              "23922  23922      4\n",
              "23923  23923      4\n",
              "\n",
              "[23924 rows x 2 columns]"
            ],
            "text/html": [
              "\n",
              "  <div id=\"df-ce3a002a-66a1-4403-ae5b-9a9c40c646f1\">\n",
              "    <div class=\"colab-df-container\">\n",
              "      <div>\n",
              "<style scoped>\n",
              "    .dataframe tbody tr th:only-of-type {\n",
              "        vertical-align: middle;\n",
              "    }\n",
              "\n",
              "    .dataframe tbody tr th {\n",
              "        vertical-align: top;\n",
              "    }\n",
              "\n",
              "    .dataframe thead th {\n",
              "        text-align: right;\n",
              "    }\n",
              "</style>\n",
              "<table border=\"1\" class=\"dataframe\">\n",
              "  <thead>\n",
              "    <tr style=\"text-align: right;\">\n",
              "      <th></th>\n",
              "      <th>id</th>\n",
              "      <th>phase</th>\n",
              "    </tr>\n",
              "  </thead>\n",
              "  <tbody>\n",
              "    <tr>\n",
              "      <th>0</th>\n",
              "      <td>0</td>\n",
              "      <td>6</td>\n",
              "    </tr>\n",
              "    <tr>\n",
              "      <th>1</th>\n",
              "      <td>1</td>\n",
              "      <td>4</td>\n",
              "    </tr>\n",
              "    <tr>\n",
              "      <th>2</th>\n",
              "      <td>2</td>\n",
              "      <td>4</td>\n",
              "    </tr>\n",
              "    <tr>\n",
              "      <th>3</th>\n",
              "      <td>3</td>\n",
              "      <td>4</td>\n",
              "    </tr>\n",
              "    <tr>\n",
              "      <th>4</th>\n",
              "      <td>4</td>\n",
              "      <td>0</td>\n",
              "    </tr>\n",
              "    <tr>\n",
              "      <th>...</th>\n",
              "      <td>...</td>\n",
              "      <td>...</td>\n",
              "    </tr>\n",
              "    <tr>\n",
              "      <th>23919</th>\n",
              "      <td>23919</td>\n",
              "      <td>4</td>\n",
              "    </tr>\n",
              "    <tr>\n",
              "      <th>23920</th>\n",
              "      <td>23920</td>\n",
              "      <td>6</td>\n",
              "    </tr>\n",
              "    <tr>\n",
              "      <th>23921</th>\n",
              "      <td>23921</td>\n",
              "      <td>4</td>\n",
              "    </tr>\n",
              "    <tr>\n",
              "      <th>23922</th>\n",
              "      <td>23922</td>\n",
              "      <td>4</td>\n",
              "    </tr>\n",
              "    <tr>\n",
              "      <th>23923</th>\n",
              "      <td>23923</td>\n",
              "      <td>4</td>\n",
              "    </tr>\n",
              "  </tbody>\n",
              "</table>\n",
              "<p>23924 rows × 2 columns</p>\n",
              "</div>\n",
              "      <button class=\"colab-df-convert\" onclick=\"convertToInteractive('df-ce3a002a-66a1-4403-ae5b-9a9c40c646f1')\"\n",
              "              title=\"Convert this dataframe to an interactive table.\"\n",
              "              style=\"display:none;\">\n",
              "        \n",
              "  <svg xmlns=\"http://www.w3.org/2000/svg\" height=\"24px\"viewBox=\"0 0 24 24\"\n",
              "       width=\"24px\">\n",
              "    <path d=\"M0 0h24v24H0V0z\" fill=\"none\"/>\n",
              "    <path d=\"M18.56 5.44l.94 2.06.94-2.06 2.06-.94-2.06-.94-.94-2.06-.94 2.06-2.06.94zm-11 1L8.5 8.5l.94-2.06 2.06-.94-2.06-.94L8.5 2.5l-.94 2.06-2.06.94zm10 10l.94 2.06.94-2.06 2.06-.94-2.06-.94-.94-2.06-.94 2.06-2.06.94z\"/><path d=\"M17.41 7.96l-1.37-1.37c-.4-.4-.92-.59-1.43-.59-.52 0-1.04.2-1.43.59L10.3 9.45l-7.72 7.72c-.78.78-.78 2.05 0 2.83L4 21.41c.39.39.9.59 1.41.59.51 0 1.02-.2 1.41-.59l7.78-7.78 2.81-2.81c.8-.78.8-2.07 0-2.86zM5.41 20L4 18.59l7.72-7.72 1.47 1.35L5.41 20z\"/>\n",
              "  </svg>\n",
              "      </button>\n",
              "      \n",
              "  <style>\n",
              "    .colab-df-container {\n",
              "      display:flex;\n",
              "      flex-wrap:wrap;\n",
              "      gap: 12px;\n",
              "    }\n",
              "\n",
              "    .colab-df-convert {\n",
              "      background-color: #E8F0FE;\n",
              "      border: none;\n",
              "      border-radius: 50%;\n",
              "      cursor: pointer;\n",
              "      display: none;\n",
              "      fill: #1967D2;\n",
              "      height: 32px;\n",
              "      padding: 0 0 0 0;\n",
              "      width: 32px;\n",
              "    }\n",
              "\n",
              "    .colab-df-convert:hover {\n",
              "      background-color: #E2EBFA;\n",
              "      box-shadow: 0px 1px 2px rgba(60, 64, 67, 0.3), 0px 1px 3px 1px rgba(60, 64, 67, 0.15);\n",
              "      fill: #174EA6;\n",
              "    }\n",
              "\n",
              "    [theme=dark] .colab-df-convert {\n",
              "      background-color: #3B4455;\n",
              "      fill: #D2E3FC;\n",
              "    }\n",
              "\n",
              "    [theme=dark] .colab-df-convert:hover {\n",
              "      background-color: #434B5C;\n",
              "      box-shadow: 0px 1px 3px 1px rgba(0, 0, 0, 0.15);\n",
              "      filter: drop-shadow(0px 1px 2px rgba(0, 0, 0, 0.3));\n",
              "      fill: #FFFFFF;\n",
              "    }\n",
              "  </style>\n",
              "\n",
              "      <script>\n",
              "        const buttonEl =\n",
              "          document.querySelector('#df-ce3a002a-66a1-4403-ae5b-9a9c40c646f1 button.colab-df-convert');\n",
              "        buttonEl.style.display =\n",
              "          google.colab.kernel.accessAllowed ? 'block' : 'none';\n",
              "\n",
              "        async function convertToInteractive(key) {\n",
              "          const element = document.querySelector('#df-ce3a002a-66a1-4403-ae5b-9a9c40c646f1');\n",
              "          const dataTable =\n",
              "            await google.colab.kernel.invokeFunction('convertToInteractive',\n",
              "                                                     [key], {});\n",
              "          if (!dataTable) return;\n",
              "\n",
              "          const docLinkHtml = 'Like what you see? Visit the ' +\n",
              "            '<a target=\"_blank\" href=https://colab.research.google.com/notebooks/data_table.ipynb>data table notebook</a>'\n",
              "            + ' to learn more about interactive tables.';\n",
              "          element.innerHTML = '';\n",
              "          dataTable['output_type'] = 'display_data';\n",
              "          await google.colab.output.renderOutput(dataTable, element);\n",
              "          const docLink = document.createElement('div');\n",
              "          docLink.innerHTML = docLinkHtml;\n",
              "          element.appendChild(docLink);\n",
              "        }\n",
              "      </script>\n",
              "    </div>\n",
              "  </div>\n",
              "  "
            ]
          },
          "metadata": {},
          "execution_count": 172
        }
      ]
    },
    {
      "cell_type": "code",
      "source": [
        "res.to_csv('/content/drive/MyDrive/Project/Data/res.csv', index=False)"
      ],
      "metadata": {
        "id": "AXyNG2OosWCg"
      },
      "execution_count": null,
      "outputs": []
    }
  ]
}